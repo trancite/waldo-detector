{
 "cells": [
  {
   "cell_type": "markdown",
   "id": "5185dee5-ea33-4aa8-9ced-a708e291ead0",
   "metadata": {},
   "source": [
    "# Waldo Extractor"
   ]
  },
  {
   "cell_type": "markdown",
   "id": "9d76ef0f-8b6c-4014-81a3-bb388c25ab0a",
   "metadata": {},
   "source": [
    "This auxiliary notebook has been used to briefly expand our dataset by adding some images. It serves as a supplementary step in the overall data preparation process."
   ]
  },
  {
   "cell_type": "markdown",
   "id": "0bce3f5c-1a38-4550-86b7-e96a006cbb61",
   "metadata": {},
   "source": [
    "## 1. Extraction function"
   ]
  },
  {
   "cell_type": "markdown",
   "id": "7f1217dd-b5e0-4eea-8ec7-beab1a1291ea",
   "metadata": {},
   "source": [
    "Below is the implementation of a function designed to save specific crops into our dataset. In this case, we manually calculate the coordinates of the 64×64 bounding box where Waldo appears in the images, and then use this function to extract and save those crops.\n",
    "\n",
    "The extraction process follows the same methodology originally employed to generate the dataset we are working with. For reference and reproducibility, the original code used for dataset creation is included in the repository."
   ]
  },
  {
   "cell_type": "code",
   "execution_count": 2,
   "id": "3b3d5f60-0497-4ac9-b1ac-7f910983d9b1",
   "metadata": {},
   "outputs": [],
   "source": [
    "from PIL import Image\n",
    "import io\n",
    "import os\n",
    "\n",
    "def save_crop_from_box(image_path_or_pil, box, save_path):\n",
    "\n",
    "    if isinstance(image_path_or_pil, str):\n",
    "        image = Image.open(image_path_or_pil).convert(\"RGB\")\n",
    "    else:\n",
    "        image = image_path_or_pil.convert(\"RGB\")\n",
    "    \n",
    "    crop_img = image.crop(box)\n",
    "    \n",
    "    buffer = io.BytesIO()\n",
    "    crop_img.save(buffer, format=\"JPEG\", optimize=True, quality=85)\n",
    "    buffer.seek(0)\n",
    "    \n",
    "    img_to_save = Image.open(buffer).convert(\"RGB\")\n",
    "    \n",
    "    os.makedirs(os.path.dirname(save_path), exist_ok=True)\n",
    "    \n",
    "    img_to_save.save(save_path)\n",
    "    print(f\"Image saved in {save_path}\")\n"
   ]
  },
  {
   "cell_type": "markdown",
   "id": "2f0bb524-11ab-4479-903f-ad426829529f",
   "metadata": {},
   "source": [
    "The pipeline used for extracting patches from the full images is not provided and therefore not shown here. The extracted photos stored separately correspond to files named following the pattern __waldo_number.jpg__."
   ]
  },
  {
   "cell_type": "code",
   "execution_count": null,
   "id": "156125ee-b2c3-4d08-99cb-3c94fa575800",
   "metadata": {},
   "outputs": [],
   "source": []
  }
 ],
 "metadata": {
  "kernelspec": {
   "display_name": "Python (cachine)",
   "language": "python",
   "name": "cachine"
  },
  "language_info": {
   "codemirror_mode": {
    "name": "ipython",
    "version": 3
   },
   "file_extension": ".py",
   "mimetype": "text/x-python",
   "name": "python",
   "nbconvert_exporter": "python",
   "pygments_lexer": "ipython3",
   "version": "3.9.19"
  }
 },
 "nbformat": 4,
 "nbformat_minor": 5
}
