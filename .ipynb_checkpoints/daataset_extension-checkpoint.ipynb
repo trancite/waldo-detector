{
 "cells": [
  {
   "cell_type": "code",
   "execution_count": 29,
   "id": "3b3d5f60-0497-4ac9-b1ac-7f910983d9b1",
   "metadata": {},
   "outputs": [],
   "source": [
    "from PIL import Image\n",
    "import io\n",
    "import os\n",
    "\n",
    "def save_crop_from_box(image_path_or_pil, box, save_path):\n",
    "\n",
    "    if isinstance(image_path_or_pil, str):\n",
    "        image = Image.open(image_path_or_pil).convert(\"RGB\")\n",
    "    else:\n",
    "        image = image_path_or_pil.convert(\"RGB\")\n",
    "    \n",
    "    crop_img = image.crop(box)\n",
    "    \n",
    "    buffer = io.BytesIO()\n",
    "    crop_img.save(buffer, format=\"JPEG\", optimize=True, quality=85)\n",
    "    buffer.seek(0)\n",
    "    \n",
    "    img_to_save = Image.open(buffer).convert(\"RGB\")\n",
    "    \n",
    "    os.makedirs(os.path.dirname(save_path), exist_ok=True)\n",
    "    \n",
    "    img_to_save.save(save_path)\n",
    "    print(f\"Imagen guardada en {save_path}\")\n",
    "\n",
    "\n"
   ]
  },
  {
   "cell_type": "code",
   "execution_count": 30,
   "id": "32599e85-1b01-44dd-a48a-22b887ec72f4",
   "metadata": {},
   "outputs": [],
   "source": [
    "def show_crop_box(image_path_or_pil, box):\n",
    "    \"\"\"\n",
    "    Recorta la región indicada por box y la muestra.\n",
    "\n",
    "    Parámetros:\n",
    "    - image_path_or_pil: str (ruta imagen) o PIL.Image\n",
    "    - box: tupla (x_start, y_start, x_end, y_end)\n",
    "    \"\"\"\n",
    "    if isinstance(image_path_or_pil, str):\n",
    "        image = Image.open(image_path_or_pil).convert(\"RGB\")\n",
    "    else:\n",
    "        image = image_path_or_pil.convert(\"RGB\")\n",
    "\n",
    "    crop_img = image.crop(box)\n",
    "    crop_img.show()\n"
   ]
  },
  {
   "cell_type": "code",
   "execution_count": 31,
   "id": "07c74404-e7d8-42f6-8734-abb9c80f3e25",
   "metadata": {},
   "outputs": [],
   "source": [
    "show_crop_box(\"DataSets_Waldoo/FULL_IMAGES/original-images/15.jpg\", (300,430,364,494))"
   ]
  },
  {
   "cell_type": "code",
   "execution_count": 28,
   "id": "3b07ebe2-2912-4b15-9249-4e4127170b6f",
   "metadata": {},
   "outputs": [
    {
     "name": "stdout",
     "output_type": "stream",
     "text": [
      "Imagen guardada en My_DataSets_Waldoo/IMAGES_64/waldo/waldo15.jpg\n"
     ]
    }
   ],
   "source": [
    "save_crop_from_box(\"DataSets_Waldoo/FULL_IMAGES/original-images/15.jpg\",(300,430,364,494),\"My_DataSets_Waldoo/IMAGES_64/waldo/waldo15.jpg\")"
   ]
  },
  {
   "cell_type": "code",
   "execution_count": null,
   "id": "ca6a964d-ac13-43a6-a2c6-b47fa212a70c",
   "metadata": {},
   "outputs": [],
   "source": []
  }
 ],
 "metadata": {
  "kernelspec": {
   "display_name": "Python (cachine)",
   "language": "python",
   "name": "cachine"
  },
  "language_info": {
   "codemirror_mode": {
    "name": "ipython",
    "version": 3
   },
   "file_extension": ".py",
   "mimetype": "text/x-python",
   "name": "python",
   "nbconvert_exporter": "python",
   "pygments_lexer": "ipython3",
   "version": "3.9.19"
  }
 },
 "nbformat": 4,
 "nbformat_minor": 5
}
